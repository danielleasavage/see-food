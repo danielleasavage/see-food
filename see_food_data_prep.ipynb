{
 "cells": [
  {
   "cell_type": "code",
   "execution_count": 18,
   "metadata": {
    "collapsed": true
   },
   "outputs": [],
   "source": [
    "import pandas as pd\n",
    "import numpy as np\n",
    "import plotly\n",
    "import plotly.plotly as py\n",
    "import plotly.graph_objs as go\n",
    "#import plotly.offline as offline"
   ]
  },
  {
   "cell_type": "code",
   "execution_count": 19,
   "metadata": {},
   "outputs": [
    {
     "data": {
      "text/html": [
       "<script>requirejs.config({paths: { 'plotly': ['https://cdn.plot.ly/plotly-latest.min']},});if(!window.Plotly) {{require(['plotly'],function(plotly) {window.Plotly=plotly;});}}</script>"
      ],
      "text/vnd.plotly.v1+html": [
       "<script>requirejs.config({paths: { 'plotly': ['https://cdn.plot.ly/plotly-latest.min']},});if(!window.Plotly) {{require(['plotly'],function(plotly) {window.Plotly=plotly;});}}</script>"
      ]
     },
     "metadata": {},
     "output_type": "display_data"
    }
   ],
   "source": [
    "plotly.offline.init_notebook_mode(connected=True)"
   ]
  },
  {
   "cell_type": "code",
   "execution_count": 20,
   "metadata": {},
   "outputs": [],
   "source": [
    "# Load the data\n",
    "food = pd.read_csv(\"FAO.csv\", encoding = \"ISO-8859-1\")"
   ]
  },
  {
   "cell_type": "markdown",
   "metadata": {},
   "source": [
    "### Create Buckets for the Categories"
   ]
  },
  {
   "cell_type": "code",
   "execution_count": 21,
   "metadata": {
    "collapsed": true
   },
   "outputs": [],
   "source": [
    "grains = ['Wheat and products','Rice (Milled Equivalent)','Barley and products','Maize and products',\n",
    "          'Millet and products','Cereals, Other', 'Sorghum and products', 'Oats', 'Rye and products',\n",
    "         'Cereals - Excluding Beer', 'Infant food']\n",
    "\n",
    "meat = ['Meat, Aquatic Mammals','Pigmeat', 'Animal fats', 'Offals','Meat', 'Fats, Animals, Raw', 'Offals, Edible']\n",
    "\n",
    "seafood = ['Aquatic Products, Other','Aquatic Animals, Others','Molluscs, Other', 'Cephalopods','Crustaceans',\n",
    "          'Marine Fish, Other','Pelagic Fish','Demersal Fish','Fish, Seafood','Freshwater Fish',\n",
    "          'Meat, Other','Bovine Meat', 'Poultry Meat', 'Mutton & Goat Meat']\n",
    "\n",
    "dairy = ['Milk - Excluding Butter', 'Eggs', 'Cream', 'Butter, Ghee']\n",
    "\n",
    "alcohol = ['Beverages, Fermented','Alcoholic Beverages', 'Beverages, Alcoholic', 'Beer','Wine' ]\n",
    "\n",
    "fruit = ['Plantains','Grapefruit and products','Lemons, Limes and products','Fruits - Excluding Wine',\n",
    "        'Fruits, Other','Grapes and products (excl wine)', 'Dates', 'Pineapples and products', \n",
    "        'Apples and products', 'Bananas', 'Citrus, Other','Oranges, Mandarines', 'Coconuts - Incl Copra']\n",
    "\n",
    "veggies = ['Aquatic Plants','Pimento','Onions','Soyabeans','Peas','Beans','Vegetables', 'Pulses', 'Vegetables, Other',\n",
    "          'Tomatoes and products', 'Olives (including preserved)', 'Pulses, Other and products']\n",
    "\n",
    "root = ['Yams', 'Roots, Other','Sweet potatoes','Cassava and products','Starchy Roots',\n",
    "       'Potatoes and products']\n",
    "\n",
    "seed_nut = ['Cottonseed', 'Sunflower seed','Palm kernels','Rape and Mustardseed',\n",
    "           'Groundnuts (Shelled Eq)','Treenuts','Sesame seed', 'Nuts and products']\n",
    "\n",
    "oils = ['Ricebran Oil','Palmkernel Oil', 'Coconut Oil','Fish, Liver Oil','Fish, Body Oil','Maize Germ Oil',\n",
    "       'Oilcrops, Other', 'Vegetable Oils','Oilcrops', 'Oilcrops Oil, Other', 'Olive Oil',\n",
    "       'Sesameseed Oil', 'Cottonseed Oil', 'Rape and Mustard Oil', 'Palm Oil', 'Sunflowerseed Oil', \n",
    "       'Groundnut Oil','Soyabean Oil']\n",
    "\n",
    "spices_sweetners = ['Sugar non-centrifugal','Spices','Cloves', 'Sugar & Sweeteners','Sugar Crops', 'Spices, Other',\n",
    "                   'Pepper', 'Honey', 'Sweeteners, Other','Sugar (Raw Equivalent)', 'Sugar beet', 'Sugar cane']\n",
    "\n",
    "coffee = ['Coffee and products']\n",
    "\n",
    "tea = ['Tea (including mate)']\n",
    "\n",
    "cocoa = ['Cocoa Beans and products']"
   ]
  },
  {
   "cell_type": "markdown",
   "metadata": {},
   "source": [
    "### Apply this to the CSV"
   ]
  },
  {
   "cell_type": "code",
   "execution_count": 22,
   "metadata": {},
   "outputs": [],
   "source": [
    "food_groups = [grains, meat, seafood, dairy, alcohol, fruit, veggies, root, seed_nut, oils, \n",
    "               spices_sweetners, coffee, tea, cocoa]\n",
    "fg_names = ['grains', 'meat', 'seafood', 'dairy', 'alcohol', 'fruit', 'veggies', 'root', 'seed_nut', 'oils', \n",
    "               'spices_sweetners', 'coffee', 'tea', 'cocoa']\n",
    "\n",
    "for n, fg in enumerate(food_groups):\n",
    "    for f in fg:\n",
    "        food['Item'].replace(f,fg_names[n], inplace=True)"
   ]
  },
  {
   "cell_type": "code",
   "execution_count": 23,
   "metadata": {
    "collapsed": true
   },
   "outputs": [],
   "source": [
    "food = pd.DataFrame(food.groupby(['Area', 'Area Abbreviation', 'latitude', 'longitude','Item'], as_index=False).sum())"
   ]
  },
  {
   "cell_type": "code",
   "execution_count": 24,
   "metadata": {},
   "outputs": [
    {
     "data": {
      "text/html": [
       "<div>\n",
       "<style scoped>\n",
       "    .dataframe tbody tr th:only-of-type {\n",
       "        vertical-align: middle;\n",
       "    }\n",
       "\n",
       "    .dataframe tbody tr th {\n",
       "        vertical-align: top;\n",
       "    }\n",
       "\n",
       "    .dataframe thead th {\n",
       "        text-align: right;\n",
       "    }\n",
       "</style>\n",
       "<table border=\"1\" class=\"dataframe\">\n",
       "  <thead>\n",
       "    <tr style=\"text-align: right;\">\n",
       "      <th></th>\n",
       "      <th>Area</th>\n",
       "      <th>Area Abbreviation</th>\n",
       "      <th>year</th>\n",
       "      <th>Item</th>\n",
       "      <th>Y</th>\n",
       "    </tr>\n",
       "  </thead>\n",
       "  <tbody>\n",
       "    <tr>\n",
       "      <th>0</th>\n",
       "      <td>Afghanistan</td>\n",
       "      <td>AFG</td>\n",
       "      <td>1961</td>\n",
       "      <td>Miscellaneous</td>\n",
       "      <td>0.0</td>\n",
       "    </tr>\n",
       "    <tr>\n",
       "      <th>1</th>\n",
       "      <td>Afghanistan</td>\n",
       "      <td>AFG</td>\n",
       "      <td>1961</td>\n",
       "      <td>Stimulants</td>\n",
       "      <td>4.0</td>\n",
       "    </tr>\n",
       "    <tr>\n",
       "      <th>2</th>\n",
       "      <td>Afghanistan</td>\n",
       "      <td>AFG</td>\n",
       "      <td>1961</td>\n",
       "      <td>alcohol</td>\n",
       "      <td>0.0</td>\n",
       "    </tr>\n",
       "    <tr>\n",
       "      <th>3</th>\n",
       "      <td>Afghanistan</td>\n",
       "      <td>AFG</td>\n",
       "      <td>1961</td>\n",
       "      <td>cocoa</td>\n",
       "      <td>0.0</td>\n",
       "    </tr>\n",
       "    <tr>\n",
       "      <th>4</th>\n",
       "      <td>Afghanistan</td>\n",
       "      <td>AFG</td>\n",
       "      <td>1961</td>\n",
       "      <td>coffee</td>\n",
       "      <td>0.0</td>\n",
       "    </tr>\n",
       "  </tbody>\n",
       "</table>\n",
       "</div>"
      ],
      "text/plain": [
       "          Area Area Abbreviation  year           Item    Y\n",
       "0  Afghanistan               AFG  1961  Miscellaneous  0.0\n",
       "1  Afghanistan               AFG  1961     Stimulants  4.0\n",
       "2  Afghanistan               AFG  1961        alcohol  0.0\n",
       "3  Afghanistan               AFG  1961          cocoa  0.0\n",
       "4  Afghanistan               AFG  1961         coffee  0.0"
      ]
     },
     "execution_count": 24,
     "metadata": {},
     "output_type": "execute_result"
    }
   ],
   "source": [
    "food = pd.DataFrame(food.groupby(['Area', 'Area Abbreviation', 'latitude', 'longitude','Item'], as_index=False).sum())\n",
    "\n",
    "food[\"id\"] = food.index\n",
    "\n",
    "food_long = pd.wide_to_long(food, [\"Y\"], i=\"id\", j=\"year\")\n",
    "\n",
    "year = food_long.index.get_level_values('year')\n",
    "food_long[\"year\"] = year\n",
    "\n",
    "food_long.reset_index(drop=True, inplace=True)\n",
    "\n",
    "food_long.drop([\"Item Code\", \"latitude\", \"longitude\", \"Element Code\", \"Area Code\"], axis=1, inplace=True)\n",
    "\n",
    "food_long = food_long[[\"Area\", \"Area Abbreviation\", \"year\", \"Item\", \"Y\"]]\n",
    "food_long.head()"
   ]
  },
  {
   "cell_type": "markdown",
   "metadata": {},
   "source": [
    "### All Categories Added"
   ]
  },
  {
   "cell_type": "code",
   "execution_count": 25,
   "metadata": {
    "scrolled": true
   },
   "outputs": [
    {
     "data": {
      "text/html": [
       "<div>\n",
       "<style scoped>\n",
       "    .dataframe tbody tr th:only-of-type {\n",
       "        vertical-align: middle;\n",
       "    }\n",
       "\n",
       "    .dataframe tbody tr th {\n",
       "        vertical-align: top;\n",
       "    }\n",
       "\n",
       "    .dataframe thead th {\n",
       "        text-align: right;\n",
       "    }\n",
       "</style>\n",
       "<table border=\"1\" class=\"dataframe\">\n",
       "  <thead>\n",
       "    <tr style=\"text-align: right;\">\n",
       "      <th></th>\n",
       "      <th>Area</th>\n",
       "      <th>Area Abbreviation</th>\n",
       "      <th>latitude</th>\n",
       "      <th>longitude</th>\n",
       "      <th>Area Code</th>\n",
       "      <th>Item Code</th>\n",
       "      <th>Element Code</th>\n",
       "      <th>Y1961</th>\n",
       "      <th>Y1962</th>\n",
       "      <th>Y1963</th>\n",
       "      <th>...</th>\n",
       "      <th>Y2006</th>\n",
       "      <th>Y2007</th>\n",
       "      <th>Y2008</th>\n",
       "      <th>Y2009</th>\n",
       "      <th>Y2010</th>\n",
       "      <th>Y2011</th>\n",
       "      <th>Y2012</th>\n",
       "      <th>Y2013</th>\n",
       "      <th>id</th>\n",
       "      <th>Item</th>\n",
       "    </tr>\n",
       "  </thead>\n",
       "  <tbody>\n",
       "    <tr>\n",
       "      <th>0</th>\n",
       "      <td>Afghanistan</td>\n",
       "      <td>AFG</td>\n",
       "      <td>33.94</td>\n",
       "      <td>67.71</td>\n",
       "      <td>166</td>\n",
       "      <td>224695</td>\n",
       "      <td>430576</td>\n",
       "      <td>9481.0</td>\n",
       "      <td>9414.0</td>\n",
       "      <td>9194.0</td>\n",
       "      <td>...</td>\n",
       "      <td>18317.0</td>\n",
       "      <td>19248.0</td>\n",
       "      <td>19381.0</td>\n",
       "      <td>20661.0</td>\n",
       "      <td>21030.0</td>\n",
       "      <td>21100.0</td>\n",
       "      <td>22706</td>\n",
       "      <td>23007</td>\n",
       "      <td>120</td>\n",
       "      <td>all</td>\n",
       "    </tr>\n",
       "    <tr>\n",
       "      <th>1</th>\n",
       "      <td>Albania</td>\n",
       "      <td>ALB</td>\n",
       "      <td>41.15</td>\n",
       "      <td>20.17</td>\n",
       "      <td>369</td>\n",
       "      <td>331693</td>\n",
       "      <td>641941</td>\n",
       "      <td>1706.0</td>\n",
       "      <td>1749.0</td>\n",
       "      <td>1767.0</td>\n",
       "      <td>...</td>\n",
       "      <td>6911.0</td>\n",
       "      <td>6744.0</td>\n",
       "      <td>7168.0</td>\n",
       "      <td>7316.0</td>\n",
       "      <td>7907.0</td>\n",
       "      <td>8114.0</td>\n",
       "      <td>8221</td>\n",
       "      <td>8271</td>\n",
       "      <td>376</td>\n",
       "      <td>all</td>\n",
       "    </tr>\n",
       "    <tr>\n",
       "      <th>2</th>\n",
       "      <td>Algeria</td>\n",
       "      <td>DZA</td>\n",
       "      <td>28.03</td>\n",
       "      <td>1.66</td>\n",
       "      <td>496</td>\n",
       "      <td>333506</td>\n",
       "      <td>645946</td>\n",
       "      <td>7488.0</td>\n",
       "      <td>7235.0</td>\n",
       "      <td>6861.0</td>\n",
       "      <td>...</td>\n",
       "      <td>51067.0</td>\n",
       "      <td>49933.0</td>\n",
       "      <td>50916.0</td>\n",
       "      <td>57505.0</td>\n",
       "      <td>60071.0</td>\n",
       "      <td>65852.0</td>\n",
       "      <td>69365</td>\n",
       "      <td>72161</td>\n",
       "      <td>632</td>\n",
       "      <td>all</td>\n",
       "    </tr>\n",
       "    <tr>\n",
       "      <th>3</th>\n",
       "      <td>Angola</td>\n",
       "      <td>AGO</td>\n",
       "      <td>-11.20</td>\n",
       "      <td>17.87</td>\n",
       "      <td>763</td>\n",
       "      <td>295092</td>\n",
       "      <td>566163</td>\n",
       "      <td>4834.0</td>\n",
       "      <td>4775.0</td>\n",
       "      <td>5240.0</td>\n",
       "      <td>...</td>\n",
       "      <td>28247.0</td>\n",
       "      <td>29877.0</td>\n",
       "      <td>32053.0</td>\n",
       "      <td>36985.0</td>\n",
       "      <td>38400.0</td>\n",
       "      <td>40573.0</td>\n",
       "      <td>38064</td>\n",
       "      <td>48639</td>\n",
       "      <td>888</td>\n",
       "      <td>all</td>\n",
       "    </tr>\n",
       "    <tr>\n",
       "      <th>4</th>\n",
       "      <td>Antigua and Barbuda</td>\n",
       "      <td>ATG</td>\n",
       "      <td>17.06</td>\n",
       "      <td>-61.80</td>\n",
       "      <td>936</td>\n",
       "      <td>315344</td>\n",
       "      <td>606541</td>\n",
       "      <td>92.0</td>\n",
       "      <td>94.0</td>\n",
       "      <td>105.0</td>\n",
       "      <td>...</td>\n",
       "      <td>110.0</td>\n",
       "      <td>122.0</td>\n",
       "      <td>115.0</td>\n",
       "      <td>114.0</td>\n",
       "      <td>115.0</td>\n",
       "      <td>118.0</td>\n",
       "      <td>113</td>\n",
       "      <td>119</td>\n",
       "      <td>1144</td>\n",
       "      <td>all</td>\n",
       "    </tr>\n",
       "  </tbody>\n",
       "</table>\n",
       "<p>5 rows × 62 columns</p>\n",
       "</div>"
      ],
      "text/plain": [
       "                  Area Area Abbreviation  latitude  longitude  Area Code  \\\n",
       "0          Afghanistan               AFG     33.94      67.71        166   \n",
       "1              Albania               ALB     41.15      20.17        369   \n",
       "2              Algeria               DZA     28.03       1.66        496   \n",
       "3               Angola               AGO    -11.20      17.87        763   \n",
       "4  Antigua and Barbuda               ATG     17.06     -61.80        936   \n",
       "\n",
       "   Item Code  Element Code   Y1961   Y1962   Y1963  ...     Y2006    Y2007  \\\n",
       "0     224695        430576  9481.0  9414.0  9194.0  ...   18317.0  19248.0   \n",
       "1     331693        641941  1706.0  1749.0  1767.0  ...    6911.0   6744.0   \n",
       "2     333506        645946  7488.0  7235.0  6861.0  ...   51067.0  49933.0   \n",
       "3     295092        566163  4834.0  4775.0  5240.0  ...   28247.0  29877.0   \n",
       "4     315344        606541    92.0    94.0   105.0  ...     110.0    122.0   \n",
       "\n",
       "     Y2008    Y2009    Y2010    Y2011  Y2012  Y2013    id  Item  \n",
       "0  19381.0  20661.0  21030.0  21100.0  22706  23007   120   all  \n",
       "1   7168.0   7316.0   7907.0   8114.0   8221   8271   376   all  \n",
       "2  50916.0  57505.0  60071.0  65852.0  69365  72161   632   all  \n",
       "3  32053.0  36985.0  38400.0  40573.0  38064  48639   888   all  \n",
       "4    115.0    114.0    115.0    118.0    113    119  1144   all  \n",
       "\n",
       "[5 rows x 62 columns]"
      ]
     },
     "execution_count": 25,
     "metadata": {},
     "output_type": "execute_result"
    }
   ],
   "source": [
    "foodall = pd.DataFrame(food.groupby(['Area', 'Area Abbreviation', 'latitude', 'longitude'], as_index=False).sum())\n",
    "foodall[\"Item\"] = np.array(\"all\")\n",
    "foodall.head()"
   ]
  },
  {
   "cell_type": "code",
   "execution_count": 26,
   "metadata": {},
   "outputs": [
    {
     "data": {
      "text/html": [
       "<div>\n",
       "<style scoped>\n",
       "    .dataframe tbody tr th:only-of-type {\n",
       "        vertical-align: middle;\n",
       "    }\n",
       "\n",
       "    .dataframe tbody tr th {\n",
       "        vertical-align: top;\n",
       "    }\n",
       "\n",
       "    .dataframe thead th {\n",
       "        text-align: right;\n",
       "    }\n",
       "</style>\n",
       "<table border=\"1\" class=\"dataframe\">\n",
       "  <thead>\n",
       "    <tr style=\"text-align: right;\">\n",
       "      <th></th>\n",
       "      <th>Area</th>\n",
       "      <th>Area Abbreviation</th>\n",
       "      <th>year</th>\n",
       "      <th>Item</th>\n",
       "      <th>Y</th>\n",
       "    </tr>\n",
       "  </thead>\n",
       "  <tbody>\n",
       "    <tr>\n",
       "      <th>0</th>\n",
       "      <td>Afghanistan</td>\n",
       "      <td>AFG</td>\n",
       "      <td>1961</td>\n",
       "      <td>all</td>\n",
       "      <td>9481.0</td>\n",
       "    </tr>\n",
       "    <tr>\n",
       "      <th>1</th>\n",
       "      <td>Albania</td>\n",
       "      <td>ALB</td>\n",
       "      <td>1961</td>\n",
       "      <td>all</td>\n",
       "      <td>1706.0</td>\n",
       "    </tr>\n",
       "    <tr>\n",
       "      <th>2</th>\n",
       "      <td>Algeria</td>\n",
       "      <td>DZA</td>\n",
       "      <td>1961</td>\n",
       "      <td>all</td>\n",
       "      <td>7488.0</td>\n",
       "    </tr>\n",
       "    <tr>\n",
       "      <th>3</th>\n",
       "      <td>Angola</td>\n",
       "      <td>AGO</td>\n",
       "      <td>1961</td>\n",
       "      <td>all</td>\n",
       "      <td>4834.0</td>\n",
       "    </tr>\n",
       "    <tr>\n",
       "      <th>4</th>\n",
       "      <td>Antigua and Barbuda</td>\n",
       "      <td>ATG</td>\n",
       "      <td>1961</td>\n",
       "      <td>all</td>\n",
       "      <td>92.0</td>\n",
       "    </tr>\n",
       "  </tbody>\n",
       "</table>\n",
       "</div>"
      ],
      "text/plain": [
       "                  Area Area Abbreviation  year Item       Y\n",
       "0          Afghanistan               AFG  1961  all  9481.0\n",
       "1              Albania               ALB  1961  all  1706.0\n",
       "2              Algeria               DZA  1961  all  7488.0\n",
       "3               Angola               AGO  1961  all  4834.0\n",
       "4  Antigua and Barbuda               ATG  1961  all    92.0"
      ]
     },
     "execution_count": 26,
     "metadata": {},
     "output_type": "execute_result"
    }
   ],
   "source": [
    "foodall[\"id\"] = foodall.index\n",
    "\n",
    "foodall_long = pd.wide_to_long(foodall, [\"Y\"], i=\"id\", j=\"year\")\n",
    "\n",
    "year = foodall_long.index.get_level_values('year')\n",
    "foodall_long[\"year\"] = year\n",
    "\n",
    "foodall_long.reset_index(drop=True, inplace=True)\n",
    "\n",
    "foodall_long.drop([\"Item Code\", \"latitude\", \"longitude\", \"Element Code\", \"Area Code\"], axis=1, inplace=True)\n",
    "\n",
    "foodall_long = foodall_long[[\"Area\", \"Area Abbreviation\", \"year\", \"Item\", \"Y\"]]\n",
    "foodall_long = foodall_long.fillna(0)\n",
    "foodall_long.head()"
   ]
  },
  {
   "cell_type": "markdown",
   "metadata": {},
   "source": [
    "### Append Dataframes"
   ]
  },
  {
   "cell_type": "code",
   "execution_count": 27,
   "metadata": {},
   "outputs": [],
   "source": [
    "food_final = food_long.append(foodall_long, ignore_index=True, verify_integrity=True)\n",
    "food_final = food_final.sort_values([\"Area\", \"year\"], axis=0)"
   ]
  },
  {
   "cell_type": "markdown",
   "metadata": {},
   "source": [
    "### Fix Mislabeled Codes"
   ]
  },
  {
   "cell_type": "code",
   "execution_count": 28,
   "metadata": {},
   "outputs": [],
   "source": [
    "food_final.loc[food_final.Area == 'Bahamas', \"Area Abbreviation\"] = 'BHS'\n",
    "food_final.loc[food_final.Area == 'The former Yugoslav Republic of Macedonia', \"Area Abbreviation\"] = 'MKD'\n",
    "food_final.loc[food_final.Area == 'China, Taiwan Province of', \"Area Abbreviation\"] = 'TWN'\n",
    "food_final.loc[food_final.Area == 'China, Macao SAR', \"Area Abbreviation\"] = 'MAC'\n",
    "food_final.loc[food_final.Area == 'China, Hong Kong SAR', \"Area Abbreviation\"] = 'HKG'"
   ]
  },
  {
   "cell_type": "markdown",
   "metadata": {},
   "source": [
    "### Export to csv"
   ]
  },
  {
   "cell_type": "code",
   "execution_count": 29,
   "metadata": {
    "collapsed": true
   },
   "outputs": [],
   "source": [
    "food_final.to_csv(\"food_final.csv\")"
   ]
  }
 ],
 "metadata": {
  "kernelspec": {
   "display_name": "Python 3",
   "language": "python",
   "name": "python3"
  },
  "language_info": {
   "codemirror_mode": {
    "name": "ipython",
    "version": 3
   },
   "file_extension": ".py",
   "mimetype": "text/x-python",
   "name": "python",
   "nbconvert_exporter": "python",
   "pygments_lexer": "ipython3",
   "version": "3.6.4"
  }
 },
 "nbformat": 4,
 "nbformat_minor": 2
}
